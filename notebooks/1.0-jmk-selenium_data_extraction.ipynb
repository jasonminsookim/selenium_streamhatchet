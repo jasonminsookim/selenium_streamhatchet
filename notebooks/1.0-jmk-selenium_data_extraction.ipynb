{
 "cells": [
  {
   "cell_type": "markdown",
   "metadata": {},
   "source": [
    "# 1. Libraries "
   ]
  },
  {
   "cell_type": "code",
   "execution_count": 1,
   "metadata": {
    "ExecuteTime": {
     "end_time": "2019-07-02T19:51:57.207733Z",
     "start_time": "2019-07-02T19:51:56.935214Z"
    }
   },
   "outputs": [],
   "source": [
    "from selenium import webdriver\n",
    "import configparser"
   ]
  },
  {
   "cell_type": "code",
   "execution_count": null,
   "metadata": {},
   "outputs": [],
   "source": []
  },
  {
   "cell_type": "code",
   "execution_count": 6,
   "metadata": {
    "ExecuteTime": {
     "end_time": "2019-07-02T17:20:21.264839Z",
     "start_time": "2019-07-02T17:20:16.486900Z"
    }
   },
   "outputs": [],
   "source": [
    "driver = webdriver.Chrome()\n",
    "driver.get(\"https://app.streamhatchet.com/\")"
   ]
  },
  {
   "cell_type": "code",
   "execution_count": 7,
   "metadata": {
    "ExecuteTime": {
     "end_time": "2019-07-02T17:20:21.593641Z",
     "start_time": "2019-07-02T17:20:21.268702Z"
    }
   },
   "outputs": [],
   "source": [
    "username = driver.find_element_by_name(\"loginEmail\")\n",
    "username.clear()\n",
    "username.send_keys(\"Test\")\n",
    "\n",
    "password = driver.find_element_by_name(\"pwd\")\n",
    "password.clear()\n",
    "password.send_keys(\"catskillz\")"
   ]
  },
  {
   "cell_type": "code",
   "execution_count": null,
   "metadata": {},
   "outputs": [],
   "source": []
  }
 ],
 "metadata": {
  "kernelspec": {
   "display_name": "Python 3",
   "language": "python",
   "name": "python3"
  },
  "language_info": {
   "codemirror_mode": {
    "name": "ipython",
    "version": 3
   },
   "file_extension": ".py",
   "mimetype": "text/x-python",
   "name": "python",
   "nbconvert_exporter": "python",
   "pygments_lexer": "ipython3",
   "version": "3.7.3"
  }
 },
 "nbformat": 4,
 "nbformat_minor": 2
}
